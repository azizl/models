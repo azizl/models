{
  "nbformat": 4,
  "nbformat_minor": 0,
  "metadata": {
    "colab": {
      "name": "2Dprimedetpredictor.ipynb",
      "version": "0.3.2",
      "provenance": [],
      "collapsed_sections": [],
      "include_colab_link": true
    },
    "kernelspec": {
      "name": "python3",
      "display_name": "Python 3"
    },
    "accelerator": "GPU"
  },
  "cells": [
    {
      "cell_type": "markdown",
      "metadata": {
        "id": "view-in-github",
        "colab_type": "text"
      },
      "source": [
        "<a href=\"https://colab.research.google.com/github/azizl/models/blob/master/2Dprimedetpredictor.ipynb\" target=\"_parent\"><img src=\"https://colab.research.google.com/assets/colab-badge.svg\" alt=\"Open In Colab\"/></a>"
      ]
    },
    {
      "cell_type": "code",
      "metadata": {
        "id": "9eeuoDLfE5T9",
        "colab_type": "code",
        "outputId": "22115632-a02a-47c8-fd02-93410c700c84",
        "colab": {
          "base_uri": "https://localhost:8080/",
          "height": 187
        }
      },
      "source": [
        "import tensorflow as tf\n",
        "tf.logging.set_verbosity(tf.logging.ERROR)\n",
        "import numpy as np\n",
        "input_q = np.array([11, 17,  23,  31, 41, 47, 59, 67, 73, 83],  dtype=float)\n",
        "output_a = np.array([5,  13, 11, 19, 37, 35, 55, 59, 61, 71],  dtype=float)\n",
        "for i,c in enumerate(input_q):\n",
        "  print(\"{} input = {} output\".format(c, output_a[i]))\n"
      ],
      "execution_count": 35,
      "outputs": [
        {
          "output_type": "stream",
          "text": [
            "11.0 input = 5.0 output\n",
            "17.0 input = 13.0 output\n",
            "23.0 input = 11.0 output\n",
            "31.0 input = 19.0 output\n",
            "41.0 input = 37.0 output\n",
            "47.0 input = 35.0 output\n",
            "59.0 input = 55.0 output\n",
            "67.0 input = 59.0 output\n",
            "73.0 input = 61.0 output\n",
            "83.0 input = 71.0 output\n"
          ],
          "name": "stdout"
        }
      ]
    },
    {
      "cell_type": "code",
      "metadata": {
        "id": "nkCqGkOfOCuw",
        "colab_type": "code",
        "colab": {}
      },
      "source": [
        "model = tf.keras.Sequential([\n",
        "  tf.keras.layers.Dense(units=1, input_shape=[1])\n",
        "])\n",
        "model.compile(loss='mean_squared_error',\n",
        "              optimizer=tf.keras.optimizers.Adam(0.1))"
      ],
      "execution_count": 0,
      "outputs": []
    },
    {
      "cell_type": "code",
      "metadata": {
        "id": "wB62SbM8PYeV",
        "colab_type": "code",
        "outputId": "cab4039c-e9e4-402b-81af-5f2e11aa0b17",
        "colab": {
          "base_uri": "https://localhost:8080/",
          "height": 34
        }
      },
      "source": [
        "history = model.fit(input_q, output_a, epochs=500, verbose=False)\n",
        "print(\"training the model completed\")"
      ],
      "execution_count": 37,
      "outputs": [
        {
          "output_type": "stream",
          "text": [
            "training the model completed\n"
          ],
          "name": "stdout"
        }
      ]
    },
    {
      "cell_type": "code",
      "metadata": {
        "id": "Jqe5Qr3NPkZK",
        "colab_type": "code",
        "outputId": "c0d62917-2a27-46c4-d7f6-a79db3e9c094",
        "colab": {
          "base_uri": "https://localhost:8080/",
          "height": 300
        }
      },
      "source": [
        "import matplotlib.pyplot as plt\n",
        "plt.xlabel('Epoch No')\n",
        "plt.ylabel(\"Loss Mag\")\n",
        "plt.plot(history.history['loss'])"
      ],
      "execution_count": 38,
      "outputs": [
        {
          "output_type": "execute_result",
          "data": {
            "text/plain": [
              "[<matplotlib.lines.Line2D at 0x7faf301322b0>]"
            ]
          },
          "metadata": {
            "tags": []
          },
          "execution_count": 38
        },
        {
          "output_type": "display_data",
          "data": {
            "image/png": "[encoded data removed]",
            "text/plain": [
              "<Figure size 432x288 with 1 Axes>"
            ]
          },
          "metadata": {
            "tags": []
          }
        }
      ]
    },
    {
      "cell_type": "code",
      "metadata": {
        "id": "PLOhduGNPtTt",
        "colab_type": "code",
        "outputId": "508bfc28-ba0f-47a2-b916-44cc9d0e2243",
        "colab": {
          "base_uri": "https://localhost:8080/",
          "height": 34
        }
      },
      "source": [
        "print(model.predict([97.0]))"
      ],
      "execution_count": 41,
      "outputs": [
        {
          "output_type": "stream",
          "text": [
            "[[85.868515]]\n"
          ],
          "name": "stdout"
        }
      ]
    }
  ]
}